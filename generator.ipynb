{
  "nbformat": 4,
  "nbformat_minor": 0,
  "metadata": {
    "kernelspec": {
      "name": "python3",
      "display_name": "Python 3"
    },
    "language_info": {
      "codemirror_mode": {
        "name": "ipython",
        "version": 3
      },
      "file_extension": ".py",
      "mimetype": "text/x-python",
      "name": "python",
      "nbconvert_exporter": "python",
      "pygments_lexer": "ipython3",
      "version": "3.7.3"
    },
    "colab": {
      "name": "RNN.ipynb",
      "provenance": [],
      "collapsed_sections": [],
      "toc_visible": true
    },
    "accelerator": "GPU"
  },
  "cells": [
    {
      "cell_type": "code",
      "metadata": {
        "id": "QWhfybnGYiKi",
        "colab_type": "code",
        "outputId": "d1865d3d-268e-40ca-c976-abcb11f9fbab",
        "colab": {
          "base_uri": "https://localhost:8080/",
          "height": 34
        }
      },
      "source": [
        "!pip install unidecode"
      ],
      "execution_count": 1,
      "outputs": [
        {
          "output_type": "stream",
          "text": [
            "Requirement already satisfied: unidecode in /usr/local/lib/python3.6/dist-packages (1.1.1)\n"
          ],
          "name": "stdout"
        }
      ]
    },
    {
      "cell_type": "markdown",
      "metadata": {
        "id": "FHmeBJWuYLrr",
        "colab_type": "text"
      },
      "source": [
        "# Libraries"
      ]
    },
    {
      "cell_type": "code",
      "metadata": {
        "id": "My0xzBgJYLrt",
        "colab_type": "code",
        "colab": {}
      },
      "source": [
        "import pandas as pd\n",
        "\n",
        "import datetime\n",
        "\n",
        "import torch\n",
        "import torch.nn as nn\n",
        "import torch.nn.functional as F\n",
        "\n",
        "import numpy as np\n",
        "from collections import Counter\n",
        "import os\n",
        "from argparse import Namespace\n",
        "\n",
        "import unidecode\n",
        "import random\n",
        "\n",
        "from sklearn.neighbors import NearestNeighbors\n",
        "from sklearn.preprocessing import LabelEncoder"
      ],
      "execution_count": 0,
      "outputs": []
    },
    {
      "cell_type": "markdown",
      "metadata": {
        "id": "8if1OYIUYLrw",
        "colab_type": "text"
      },
      "source": [
        "# Data preprocessing"
      ]
    },
    {
      "cell_type": "code",
      "metadata": {
        "id": "1cuiQzyDYLrw",
        "colab_type": "code",
        "colab": {}
      },
      "source": [
        "reviews = pd.read_table('data/reviews.tsv')"
      ],
      "execution_count": 0,
      "outputs": []
    },
    {
      "cell_type": "code",
      "metadata": {
        "id": "CPpd1TomYLrz",
        "colab_type": "code",
        "colab": {}
      },
      "source": [
        "reviews.dropna(subset=['content'], inplace=True)"
      ],
      "execution_count": 0,
      "outputs": []
    },
    {
      "cell_type": "code",
      "metadata": {
        "id": "zAPHuVkQYLr1",
        "colab_type": "code",
        "colab": {}
      },
      "source": [
        "def get_data_from_dataframe(df, batch_size, seq_size):\n",
        "    \n",
        "    text = \" \".join(df.content.apply(unidecode.unidecode).values.flatten())\n",
        "    \n",
        "    text = text.split()\n",
        "\n",
        "    word_counts = Counter(text)\n",
        "    sorted_vocab = sorted(word_counts, key=word_counts.get, reverse=True)\n",
        "    int_to_vocab = {k: w for k, w in enumerate(sorted_vocab)}\n",
        "    vocab_to_int = {w: k for k, w in int_to_vocab.items()}\n",
        "    n_vocab = len(int_to_vocab)\n",
        "\n",
        "    print('Vocabulary size', n_vocab)\n",
        "\n",
        "    int_text = [vocab_to_int[w] for w in text]\n",
        "    num_batches = int(len(int_text) / (seq_size * batch_size))\n",
        "    in_text = int_text[:num_batches * batch_size * seq_size]\n",
        "    out_text = np.zeros_like(in_text)\n",
        "    out_text[:-1] = in_text[1:]\n",
        "    out_text[-1] = in_text[0]\n",
        "    in_text = np.reshape(in_text, (batch_size, -1))\n",
        "    out_text = np.reshape(out_text, (batch_size, -1))\n",
        "    return int_to_vocab, vocab_to_int, n_vocab, in_text, out_text"
      ],
      "execution_count": 0,
      "outputs": []
    },
    {
      "cell_type": "code",
      "metadata": {
        "id": "fXvG-hxUYLr4",
        "colab_type": "code",
        "colab": {}
      },
      "source": [
        "def get_batches(in_text, out_text, batch_size, seq_size):\n",
        "    num_batches = np.prod(in_text.shape) // (seq_size * batch_size)\n",
        "    for i in range(0, num_batches * seq_size, seq_size):\n",
        "        yield in_text[:, i:i+seq_size], out_text[:, i:i+seq_size]"
      ],
      "execution_count": 0,
      "outputs": []
    },
    {
      "cell_type": "markdown",
      "metadata": {
        "id": "FHjrOe3xTiZF",
        "colab_type": "text"
      },
      "source": [
        "## KNN"
      ]
    },
    {
      "cell_type": "code",
      "metadata": {
        "id": "06vkYdyceS3R",
        "colab_type": "code",
        "colab": {}
      },
      "source": [
        "def column_label_encoding(df, le_colname):\n",
        "  le = LabelEncoder()\n",
        "  df[le_colname] = le.fit_transform(df[le_colname].to_list()) \n",
        "  return df\n",
        "\n",
        "def mean_score_encoding(df, grouping_columns, target_columns):\n",
        "  for target_column in target_columns:\n",
        "    mean_group = df.groupby(grouping_columns)[target_column].mean().reset_index()\n",
        "    mean_group.columns = grouping_columns + ['_'.join(grouping_columns) + '_mean_' + target_column]\n",
        "    df = df.merge(mean_group, on=grouping_columns)\n",
        "  return df\n",
        "\n",
        "def convert_string_to_date(date_time_str):\n",
        "  conversion = datetime.datetime.strptime(date_time_str, \"%Y-%m-%d\")\n",
        "  return conversion\n",
        "\n",
        "def change_date_for_column(df, column):\n",
        "    return df[column].apply(convert_string_to_date)\n",
        "\n",
        "def preprocess_knn(df):\n",
        "\n",
        "  df = df[[\"artist\", \n",
        "           \"score\", \n",
        "           \"pub_date\", \n",
        "           \"best_new_music\", \n",
        "           \"genre\", \n",
        "           \"label\", \n",
        "           \"acousticness\",\n",
        "           \"danceability\",\n",
        "           \"energy\",\n",
        "           \"instrumental\",\n",
        "           \"liveness\",\n",
        "           \"loudness\",\n",
        "           \"speechiness\",\n",
        "           \"tempo\",\n",
        "           \"valence\",\n",
        "           \"popularity\"\n",
        "  ]]\n",
        "  df = column_label_encoding(df, 'label')\n",
        "  df = mean_score_encoding(df, ['artist'], ['score'])\n",
        "  df['pub_date'] = change_date_for_column(df, 'pub_date')\n",
        "  df['pub_date'] = pd.to_numeric(df['pub_date'], errors='coerce')\n",
        "  df = pd.get_dummies(df.drop([\"artist\"], axis=1))\n",
        "\n",
        "  return df"
      ],
      "execution_count": 0,
      "outputs": []
    },
    {
      "cell_type": "code",
      "metadata": {
        "id": "IZRGmFCsgdlU",
        "colab_type": "code",
        "colab": {}
      },
      "source": [
        "def perform_KNN(df, n_neighbors):\n",
        "    neighs = NearestNeighbors(n_neighbors=n_neighbors)\n",
        "    neigs = neighs.fit(df)\n",
        "    _, indices = neighs.kneighbors(reviews_knn)\n",
        "        \n",
        "    return indices"
      ],
      "execution_count": 0,
      "outputs": []
    },
    {
      "cell_type": "code",
      "metadata": {
        "id": "FNGirkUQhLpg",
        "colab_type": "code",
        "outputId": "29d4d706-ed30-4291-ea3b-9c45ccfdac3c",
        "colab": {
          "base_uri": "https://localhost:8080/",
          "height": 139
        }
      },
      "source": [
        "# Get nearest neighbors for each album\n",
        "reviews_knn = preprocess_knn(reviews)\n",
        "neighborhoods = perform_KNN(reviews_knn, 16)"
      ],
      "execution_count": 9,
      "outputs": [
        {
          "output_type": "stream",
          "text": [
            "/usr/local/lib/python3.6/dist-packages/ipykernel_launcher.py:3: SettingWithCopyWarning: \n",
            "A value is trying to be set on a copy of a slice from a DataFrame.\n",
            "Try using .loc[row_indexer,col_indexer] = value instead\n",
            "\n",
            "See the caveats in the documentation: http://pandas.pydata.org/pandas-docs/stable/user_guide/indexing.html#returning-a-view-versus-a-copy\n",
            "  This is separate from the ipykernel package so we can avoid doing imports until\n"
          ],
          "name": "stderr"
        }
      ]
    },
    {
      "cell_type": "code",
      "metadata": {
        "id": "builKM1XHdKe",
        "colab_type": "code",
        "colab": {}
      },
      "source": [
        "# Selecting a random album to generate a review\n",
        "random_review_index = random.randint(0, reviews.shape[0])\n",
        "test_album = reviews.iloc[random_review_index]\n",
        "reviews = reviews.drop([random_review_index])"
      ],
      "execution_count": 0,
      "outputs": []
    },
    {
      "cell_type": "code",
      "metadata": {
        "id": "yCMUzSL0JuFD",
        "colab_type": "code",
        "colab": {}
      },
      "source": [
        "# Selecting reviews from nearest neighbors\n",
        "reviews_from_cluster = reviews.iloc[neighborhoods[random_review_index]]"
      ],
      "execution_count": 0,
      "outputs": []
    },
    {
      "cell_type": "markdown",
      "metadata": {
        "id": "w4OJJj2uT7DA",
        "colab_type": "text"
      },
      "source": [
        "## RNN"
      ]
    },
    {
      "cell_type": "code",
      "metadata": {
        "id": "4rK01GN-YLr7",
        "colab_type": "code",
        "colab": {}
      },
      "source": [
        "class RNNModule(nn.Module):\n",
        "    def __init__(self, n_vocab, seq_size, embedding_size, lstm_size):\n",
        "        super(RNNModule, self).__init__()\n",
        "        self.seq_size = seq_size\n",
        "        self.lstm_size = lstm_size\n",
        "        self.embedding = nn.Embedding(n_vocab, embedding_size)\n",
        "        self.lstm = nn.LSTM(embedding_size,\n",
        "                            lstm_size,\n",
        "                            batch_first=True)\n",
        "        self.dense = nn.Linear(lstm_size, n_vocab)\n",
        "        \n",
        "    def forward(self, x, prev_state):\n",
        "        embed = self.embedding(x)\n",
        "        output, state = self.lstm(embed, prev_state)\n",
        "        logits = self.dense(output)\n",
        "\n",
        "        return logits, state\n",
        "        \n",
        "    def zero_state(self, batch_size):\n",
        "        return (torch.zeros(1, batch_size, self.lstm_size),\n",
        "                torch.zeros(1, batch_size, self.lstm_size))"
      ],
      "execution_count": 0,
      "outputs": []
    },
    {
      "cell_type": "code",
      "metadata": {
        "id": "NzyQxTRxZH4R",
        "colab_type": "code",
        "colab": {}
      },
      "source": [
        "def get_loss_and_train_op(net, lr=0.001):\n",
        "        criterion = nn.CrossEntropyLoss()\n",
        "        optimizer = torch.optim.Adam(net.parameters(), lr=lr)\n",
        "\n",
        "        return criterion, optimizer"
      ],
      "execution_count": 0,
      "outputs": []
    },
    {
      "cell_type": "code",
      "metadata": {
        "id": "paUkimOgYLr9",
        "colab_type": "code",
        "colab": {}
      },
      "source": [
        "flags = Namespace(\n",
        "    seq_size=32,\n",
        "    batch_size=32,\n",
        "    embedding_size=64,\n",
        "    lstm_size=64,\n",
        "    gradients_norm=5,\n",
        "    initial_words=['This', 'album'],\n",
        "    predict_top_k=5,\n",
        "    checkpoint_path='checkpoint',\n",
        ")"
      ],
      "execution_count": 0,
      "outputs": []
    },
    {
      "cell_type": "code",
      "metadata": {
        "id": "yv-1QFpAYLr_",
        "colab_type": "code",
        "outputId": "d1bc398a-5404-4877-a218-c463632f6294",
        "colab": {
          "base_uri": "https://localhost:8080/",
          "height": 34
        }
      },
      "source": [
        "device = torch.device('cuda' if torch.cuda.is_available() else 'cpu')\n",
        "print(device)"
      ],
      "execution_count": 15,
      "outputs": [
        {
          "output_type": "stream",
          "text": [
            "cuda\n"
          ],
          "name": "stdout"
        }
      ]
    },
    {
      "cell_type": "code",
      "metadata": {
        "id": "KLT0gi6hZ_qR",
        "colab_type": "code",
        "outputId": "48bafef5-44c7-4f2b-b1bf-b5ec1e411f1f",
        "colab": {
          "base_uri": "https://localhost:8080/",
          "height": 34
        }
      },
      "source": [
        "reviews_index_to_train = reviews_from_cluster.index.tolist() + random.sample(range(reviews.shape[0]), 256)\n",
        "\n",
        "int_to_vocab, vocab_to_int, n_vocab, in_text, out_text = get_data_from_dataframe(\n",
        "    reviews.iloc[reviews_index_to_train], \n",
        "    flags.batch_size, \n",
        "    flags.seq_size\n",
        ")\n",
        "\n",
        "net = RNNModule(n_vocab, flags.seq_size, flags.embedding_size, flags.lstm_size)\n",
        "net = net.to(device)\n",
        "\n",
        "criterion, optimizer = get_loss_and_train_op(net, 0.05)\n",
        "\n",
        "iteration = 0"
      ],
      "execution_count": 16,
      "outputs": [
        {
          "output_type": "stream",
          "text": [
            "Vocabulary size 36315\n"
          ],
          "name": "stdout"
        }
      ]
    },
    {
      "cell_type": "markdown",
      "metadata": {
        "id": "PWoZxIxFYLsD",
        "colab_type": "text"
      },
      "source": [
        "# Training"
      ]
    },
    {
      "cell_type": "code",
      "metadata": {
        "id": "HqM5ECWdaSev",
        "colab_type": "code",
        "colab": {}
      },
      "source": [
        "def predict(device, net, words, n_vocab, vocab_to_int, int_to_vocab, top_k=5):\n",
        "    net.eval()\n",
        "\n",
        "    state_h, state_c = net.zero_state(1)\n",
        "    state_h = state_h.to(device)\n",
        "    state_c = state_c.to(device)\n",
        "    for w in words:\n",
        "        ix = torch.tensor([[vocab_to_int[w]]]).to(device)\n",
        "        output, (state_h, state_c) = net(ix, (state_h, state_c))\n",
        "    \n",
        "    _, top_ix = torch.topk(output[0], k=top_k)\n",
        "    choices = top_ix.tolist()\n",
        "    choice = np.random.choice(choices[0])\n",
        "\n",
        "    words.append(int_to_vocab[choice])\n",
        "    for _ in range(100):\n",
        "        ix = torch.tensor([[choice]]).to(device)\n",
        "        output, (state_h, state_c) = net(ix, (state_h, state_c))\n",
        "\n",
        "        _, top_ix = torch.topk(output[0], k=top_k)\n",
        "        choices = top_ix.tolist()\n",
        "        choice = np.random.choice(choices[0])\n",
        "        words.append(int_to_vocab[choice])\n",
        "\n",
        "    print(' '.join(words))"
      ],
      "execution_count": 0,
      "outputs": []
    },
    {
      "cell_type": "code",
      "metadata": {
        "id": "obRAaoy2YLsE",
        "colab_type": "code",
        "outputId": "2823a455-ae55-4a2d-d287-b79559dcd432",
        "colab": {
          "base_uri": "https://localhost:8080/",
          "height": 479
        }
      },
      "source": [
        "n_epochs = 10\n",
        "for e in range(n_epochs):\n",
        "    batches = get_batches(in_text, out_text, flags.batch_size, flags.seq_size)\n",
        "    state_h, state_c = net.zero_state(flags.batch_size)\n",
        "\n",
        "    # Transfer data to GPU\n",
        "    state_h = state_h.to(device)\n",
        "    state_c = state_c.to(device)\n",
        "    for x, y in batches:\n",
        "        iteration += 1\n",
        "\n",
        "        # Tell it we are in training mode\n",
        "        net.train()\n",
        "\n",
        "        # Reset all gradients\n",
        "        optimizer.zero_grad()\n",
        "\n",
        "        # Transfer data to GPU\n",
        "        x = torch.tensor(x).to(device)\n",
        "        y = torch.tensor(y).to(device)\n",
        "\n",
        "        logits, (state_h, state_c) = net(x, (state_h, state_c))\n",
        "        loss = criterion(logits.transpose(1, 2), y)\n",
        "\n",
        "        state_h = state_h.detach()\n",
        "        state_c = state_c.detach()\n",
        "\n",
        "        loss_value = loss.item()\n",
        "\n",
        "        # Perform back-propagation\n",
        "        loss.backward()\n",
        "        \n",
        "        _ = torch.nn.utils.clip_grad_norm_(net.parameters(), flags.gradients_norm)\n",
        "\n",
        "        # Update the network's parameters\n",
        "        optimizer.step()\n",
        "\n",
        "        if iteration % 100 == 0:\n",
        "            print('Epoch: {}/{}'.format(e, n_epochs),\n",
        "                  'Iteration: {}'.format(iteration),\n",
        "                  'Loss: {}'.format(loss_value))\n",
        "\n",
        "    predict(device, net, flags.initial_words, n_vocab,\n",
        "                    vocab_to_int, int_to_vocab, top_k=5)"
      ],
      "execution_count": 18,
      "outputs": [
        {
          "output_type": "stream",
          "text": [
            "Epoch: 0/10 Iteration: 100 Loss: 8.423583984375\n",
            "This album that and in its own to the music of a bit that the music of an of its music to his music to a and the album is a few and and the first to be a few of an artist in a more and a bit to a and of the first to the album is the album is his of his first in his own to be a more in the same and is a little in its same of a little and and of his own the album the first to an to be and the first time\n",
            "Epoch: 1/10 Iteration: 200 Loss: 7.23267936706543\n",
            "Epoch: 1/10 Iteration: 300 Loss: 7.3150129318237305\n",
            "This album that and in its own to the music of a bit that the music of an of its music to his music to a and the album is a few and and the first to be a few of an artist in a more and a bit to a and of the first to the album is the album is his of his first in his own to be a more in the same and is a little in its same of a little and and of his own the album the first to an to be and the first time of the album's track of his own jazz to an attempt in a little more of the first couple of his music on its most innovative on the other own and and as an artist the most part, and is the most the music that is the music and the music and is that he sings, as an artist and the album's of his own own and a little bit and and as well for a few of an entire of its first house, a little more is as well for his and is an artist and is that he is\n",
            "Epoch: 2/10 Iteration: 400 Loss: 6.872315406799316\n",
            "Epoch: 2/10 Iteration: 500 Loss: 6.709580421447754\n",
            "This album that and in its own to the music of a bit that the music of an of its music to his music to a and the album is a few and and the first to be a few of an artist in a more and a bit to a and of the first to the album is the album is his of his first in his own to be a more in the same and is a little in its same of a little and and of his own the album the first to an to be and the first time of the album's track of his own jazz to an attempt in a little more of the first couple of his music on its most innovative on the other own and and as an artist the most part, and is the most the music that is the music and the music and is that he sings, as an artist and the album's of his own own and a little bit and and as well for a few of an entire of its first house, a little more is as well for his and is an artist and is that he is an album is his banjo of a bit and the music is that it seems to make you know, he is the first time the music on his beat in their most in an obsolete the most and the most eloquent sessions that is an impromptu in their career, the same and in their own terms, of her but he a lot to make a few years, it the first time that and and a few Vernon are as if you know, are a few album a bit and in an Afrofuturist of an impromptu and as if it was an\n",
            "Epoch: 3/10 Iteration: 600 Loss: 6.541629314422607\n",
            "This album that and in its own to the music of a bit that the music of an of its music to his music to a and the album is a few and and the first to be a few of an artist in a more and a bit to a and of the first to the album is the album is his of his first in his own to be a more in the same and is a little in its same of a little and and of his own the album the first to an to be and the first time of the album's track of his own jazz to an attempt in a little more of the first couple of his music on its most innovative on the other own and and as an artist the most part, and is the most the music that is the music and the music and is that he sings, as an artist and the album's of his own own and a little bit and and as well for a few of an entire of its first house, a little more is as well for his and is an artist and is that he is an album is his banjo of a bit and the music is that it seems to make you know, he is the first time the music on his beat in their most in an obsolete the most and the most eloquent sessions that is an impromptu in their career, the same and in their own terms, of her but he a lot to make a few years, it the first time that and and a few Vernon are as if you know, are a few album a bit and in an Afrofuturist of an impromptu and as if it was an artist like its most of his own merits, in the first time that makes me the music for a more misleading writer but it to be the band that makes it to be the most much that makes me as if you're and the same songs is an album since there's no regrets,\" of a bit that the most part, as well and in their first creation, comfortably that the music is a little bit to make a few hundred of its first teaser that it the same album high-concept with an album for a lot more of a bit too\n",
            "Epoch: 4/10 Iteration: 700 Loss: 6.4283037185668945\n",
            "Epoch: 4/10 Iteration: 800 Loss: 5.946113586425781\n",
            "This album that and in its own to the music of a bit that the music of an of its music to his music to a and the album is a few and and the first to be a few of an artist in a more and a bit to a and of the first to the album is the album is his of his first in his own to be a more in the same and is a little in its same of a little and and of his own the album the first to an to be and the first time of the album's track of his own jazz to an attempt in a little more of the first couple of his music on its most innovative on the other own and and as an artist the most part, and is the most the music that is the music and the music and is that he sings, as an artist and the album's of his own own and a little bit and and as well for a few of an entire of its first house, a little more is as well for his and is an artist and is that he is an album is his banjo of a bit and the music is that it seems to make you know, he is the first time the music on his beat in their most in an obsolete the most and the most eloquent sessions that is an impromptu in their career, the same and in their own terms, of her but he a lot to make a few years, it the first time that and and a few Vernon are as if you know, are a few album a bit and in an Afrofuturist of an impromptu and as if it was an artist like its most of his own merits, in the first time that makes me the music for a more misleading writer but it to be the band that makes it to be the most much that makes me as if you're and the same songs is an album since there's no regrets,\" of a bit that the most part, as well and in their first creation, comfortably that the music is a little bit to make a few hundred of its first teaser that it the same album high-concept with an album for a lot more of a bit too seriously. The most important Corgan a lot with its way to be catchy, In the first few harmonically narrowly scenes with his best porno mag, but a more vibrant moment on a bit more of her music for an entire wispy, blue-eyed he the music that the first two the first few years, the first two and and and and his best porno guitar lines for an album that is his first album is that makes a lot of her own content.\" and is that the album is the music that makes something for the music that the first place. a\n",
            "Epoch: 5/10 Iteration: 900 Loss: 5.896408557891846\n",
            "Epoch: 5/10 Iteration: 1000 Loss: 5.655226230621338\n",
            "This album that and in its own to the music of a bit that the music of an of its music to his music to a and the album is a few and and the first to be a few of an artist in a more and a bit to a and of the first to the album is the album is his of his first in his own to be a more in the same and is a little in its same of a little and and of his own the album the first to an to be and the first time of the album's track of his own jazz to an attempt in a little more of the first couple of his music on its most innovative on the other own and and as an artist the most part, and is the most the music that is the music and the music and is that he sings, as an artist and the album's of his own own and a little bit and and as well for a few of an entire of its first house, a little more is as well for his and is an artist and is that he is an album is his banjo of a bit and the music is that it seems to make you know, he is the first time the music on his beat in their most in an obsolete the most and the most eloquent sessions that is an impromptu in their career, the same and in their own terms, of her but he a lot to make a few years, it the first time that and and a few Vernon are as if you know, are a few album a bit and in an Afrofuturist of an impromptu and as if it was an artist like its most of his own merits, in the first time that makes me the music for a more misleading writer but it to be the band that makes it to be the most much that makes me as if you're and the same songs is an album since there's no regrets,\" of a bit that the most part, as well and in their first creation, comfortably that the music is a little bit to make a few hundred of its first teaser that it the same album high-concept with an album for a lot more of a bit too seriously. The most important Corgan a lot with its way to be catchy, In the first few harmonically narrowly scenes with his best porno mag, but a more vibrant moment on a bit more of her music for an entire wispy, blue-eyed he the music that the first two the first few years, the first two and and and and his best porno guitar lines for an album that is his first album is that makes a lot of her own content.\" and is that the album is the music that makes something for the music that the first place. a bit too quick out in its songs are an inimitable Stoltz in order for his first few years is as well to his own devices, who was recorded is as a few years ago in the same first few spins, that is no advance the same music in the most inventive) The album's track the most inventive) The album's title Teargarden for the music that it seems too seriously. the most part, as the music in the most innovative The album's songs is the most successful. Parker and a bit too quick by Lou Byrne (drums), Nicole chirp in its own.\n",
            "Epoch: 6/10 Iteration: 1100 Loss: 5.5624589920043945\n",
            "This album that and in its own to the music of a bit that the music of an of its music to his music to a and the album is a few and and the first to be a few of an artist in a more and a bit to a and of the first to the album is the album is his of his first in his own to be a more in the same and is a little in its same of a little and and of his own the album the first to an to be and the first time of the album's track of his own jazz to an attempt in a little more of the first couple of his music on its most innovative on the other own and and as an artist the most part, and is the most the music that is the music and the music and is that he sings, as an artist and the album's of his own own and a little bit and and as well for a few of an entire of its first house, a little more is as well for his and is an artist and is that he is an album is his banjo of a bit and the music is that it seems to make you know, he is the first time the music on his beat in their most in an obsolete the most and the most eloquent sessions that is an impromptu in their career, the same and in their own terms, of her but he a lot to make a few years, it the first time that and and a few Vernon are as if you know, are a few album a bit and in an Afrofuturist of an impromptu and as if it was an artist like its most of his own merits, in the first time that makes me the music for a more misleading writer but it to be the band that makes it to be the most much that makes me as if you're and the same songs is an album since there's no regrets,\" of a bit that the most part, as well and in their first creation, comfortably that the music is a little bit to make a few hundred of its first teaser that it the same album high-concept with an album for a lot more of a bit too seriously. The most important Corgan a lot with its way to be catchy, In the first few harmonically narrowly scenes with his best porno mag, but a more vibrant moment on a bit more of her music for an entire wispy, blue-eyed he the music that the first two the first few years, the first two and and and and his best porno guitar lines for an album that is his first album is that makes a lot of her own content.\" and is that the album is the music that makes something for the music that the first place. a bit too quick out in its songs are an inimitable Stoltz in order for his first few years is as well to his own devices, who was recorded is as a few years ago in the same first few spins, that is no advance the same music in the most inventive) The album's track the most inventive) The album's title Teargarden for the music that it seems too seriously. the most part, as the music in the most innovative The album's songs is the most successful. Parker and a bit too quick by Lou Byrne (drums), Nicole chirp in its own. flourish the same the album that can take on his first single that the music is not to his career, But the music on The title references the most part, is not an album since a little more misleading founts with its own voice.asdfasdf's chord. of its own. He to his most Stephin Lyon of a bit in its own. years is no matter as he is an ongoing clocks in a bit in his songs in the music is an apt to do the first two people more like it is the album that it would make big-budget music that\n",
            "Epoch: 7/10 Iteration: 1200 Loss: 5.477556228637695\n",
            "Epoch: 7/10 Iteration: 1300 Loss: 5.364377498626709\n",
            "This album that and in its own to the music of a bit that the music of an of its music to his music to a and the album is a few and and the first to be a few of an artist in a more and a bit to a and of the first to the album is the album is his of his first in his own to be a more in the same and is a little in its same of a little and and of his own the album the first to an to be and the first time of the album's track of his own jazz to an attempt in a little more of the first couple of his music on its most innovative on the other own and and as an artist the most part, and is the most the music that is the music and the music and is that he sings, as an artist and the album's of his own own and a little bit and and as well for a few of an entire of its first house, a little more is as well for his and is an artist and is that he is an album is his banjo of a bit and the music is that it seems to make you know, he is the first time the music on his beat in their most in an obsolete the most and the most eloquent sessions that is an impromptu in their career, the same and in their own terms, of her but he a lot to make a few years, it the first time that and and a few Vernon are as if you know, are a few album a bit and in an Afrofuturist of an impromptu and as if it was an artist like its most of his own merits, in the first time that makes me the music for a more misleading writer but it to be the band that makes it to be the most much that makes me as if you're and the same songs is an album since there's no regrets,\" of a bit that the most part, as well and in their first creation, comfortably that the music is a little bit to make a few hundred of its first teaser that it the same album high-concept with an album for a lot more of a bit too seriously. The most important Corgan a lot with its way to be catchy, In the first few harmonically narrowly scenes with his best porno mag, but a more vibrant moment on a bit more of her music for an entire wispy, blue-eyed he the music that the first two the first few years, the first two and and and and his best porno guitar lines for an album that is his first album is that makes a lot of her own content.\" and is that the album is the music that makes something for the music that the first place. a bit too quick out in its songs are an inimitable Stoltz in order for his first few years is as well to his own devices, who was recorded is as a few years ago in the same first few spins, that is no advance the same music in the most inventive) The album's track the most inventive) The album's title Teargarden for the music that it seems too seriously. the most part, as the music in the most innovative The album's songs is the most successful. Parker and a bit too quick by Lou Byrne (drums), Nicole chirp in its own. flourish the same the album that can take on his first single that the music is not to his career, But the music on The title references the most part, is not an album since a little more misleading founts with its own voice.asdfasdf's chord. of its own. He to his most Stephin Lyon of a bit in its own. years is no matter as he is an ongoing clocks in a bit in his songs in the music is an apt to do the first two people more like it is the album that it would make big-budget music that it is no mistake, that is the first two notable achievements that is the album of the music is an and his most uplifting is a bit that to his voice that it seems designed away in the most successful. she concluded of an own terms, that he it seems like her salt, she concluded he the first single \"Touch say, watched Colombo.\" to do the music on the same time, she the most innovative or his most of an uncanny affirms that to the most uplifting is the most part, he is no longer commit from an album of his\n",
            "Epoch: 8/10 Iteration: 1400 Loss: 5.227553367614746\n",
            "Epoch: 8/10 Iteration: 1500 Loss: 5.318310260772705\n",
            "This album that and in its own to the music of a bit that the music of an of its music to his music to a and the album is a few and and the first to be a few of an artist in a more and a bit to a and of the first to the album is the album is his of his first in his own to be a more in the same and is a little in its same of a little and and of his own the album the first to an to be and the first time of the album's track of his own jazz to an attempt in a little more of the first couple of his music on its most innovative on the other own and and as an artist the most part, and is the most the music that is the music and the music and is that he sings, as an artist and the album's of his own own and a little bit and and as well for a few of an entire of its first house, a little more is as well for his and is an artist and is that he is an album is his banjo of a bit and the music is that it seems to make you know, he is the first time the music on his beat in their most in an obsolete the most and the most eloquent sessions that is an impromptu in their career, the same and in their own terms, of her but he a lot to make a few years, it the first time that and and a few Vernon are as if you know, are a few album a bit and in an Afrofuturist of an impromptu and as if it was an artist like its most of his own merits, in the first time that makes me the music for a more misleading writer but it to be the band that makes it to be the most much that makes me as if you're and the same songs is an album since there's no regrets,\" of a bit that the most part, as well and in their first creation, comfortably that the music is a little bit to make a few hundred of its first teaser that it the same album high-concept with an album for a lot more of a bit too seriously. The most important Corgan a lot with its way to be catchy, In the first few harmonically narrowly scenes with his best porno mag, but a more vibrant moment on a bit more of her music for an entire wispy, blue-eyed he the music that the first two the first few years, the first two and and and and his best porno guitar lines for an album that is his first album is that makes a lot of her own content.\" and is that the album is the music that makes something for the music that the first place. a bit too quick out in its songs are an inimitable Stoltz in order for his first few years is as well to his own devices, who was recorded is as a few years ago in the same first few spins, that is no advance the same music in the most inventive) The album's track the most inventive) The album's title Teargarden for the music that it seems too seriously. the most part, as the music in the most innovative The album's songs is the most successful. Parker and a bit too quick by Lou Byrne (drums), Nicole chirp in its own. flourish the same the album that can take on his first single that the music is not to his career, But the music on The title references the most part, is not an album since a little more misleading founts with its own voice.asdfasdf's chord. of its own. He to his most Stephin Lyon of a bit in its own. years is no matter as he is an ongoing clocks in a bit in his songs in the music is an apt to do the first two people more like it is the album that it would make big-budget music that it is no mistake, that is the first two notable achievements that is the album of the music is an and his most uplifting is a bit that to his voice that it seems designed away in the most successful. she concluded of an own terms, that he it seems like her salt, she concluded he the first single \"Touch say, watched Colombo.\" to do the music on the same time, she the most innovative or his most of an uncanny affirms that to the most uplifting is the most part, he is no longer commit from an album of his work is a more significant Not the album that to a little more of its unique magnetism that he was all the album the album the album is an entire and that the music in a bit of its own whiskey onslaughts Mudhoney rips to do that it was recorded in a lot with a lot that is a more complicated clatter it makes it was all that is no longer genuinely and a little more of her own and a few regrettable prominent The album's final The Hives states or the same songs in the music that it was the\n",
            "Epoch: 9/10 Iteration: 1600 Loss: 4.927720546722412\n",
            "This album that and in its own to the music of a bit that the music of an of its music to his music to a and the album is a few and and the first to be a few of an artist in a more and a bit to a and of the first to the album is the album is his of his first in his own to be a more in the same and is a little in its same of a little and and of his own the album the first to an to be and the first time of the album's track of his own jazz to an attempt in a little more of the first couple of his music on its most innovative on the other own and and as an artist the most part, and is the most the music that is the music and the music and is that he sings, as an artist and the album's of his own own and a little bit and and as well for a few of an entire of its first house, a little more is as well for his and is an artist and is that he is an album is his banjo of a bit and the music is that it seems to make you know, he is the first time the music on his beat in their most in an obsolete the most and the most eloquent sessions that is an impromptu in their career, the same and in their own terms, of her but he a lot to make a few years, it the first time that and and a few Vernon are as if you know, are a few album a bit and in an Afrofuturist of an impromptu and as if it was an artist like its most of his own merits, in the first time that makes me the music for a more misleading writer but it to be the band that makes it to be the most much that makes me as if you're and the same songs is an album since there's no regrets,\" of a bit that the most part, as well and in their first creation, comfortably that the music is a little bit to make a few hundred of its first teaser that it the same album high-concept with an album for a lot more of a bit too seriously. The most important Corgan a lot with its way to be catchy, In the first few harmonically narrowly scenes with his best porno mag, but a more vibrant moment on a bit more of her music for an entire wispy, blue-eyed he the music that the first two the first few years, the first two and and and and his best porno guitar lines for an album that is his first album is that makes a lot of her own content.\" and is that the album is the music that makes something for the music that the first place. a bit too quick out in its songs are an inimitable Stoltz in order for his first few years is as well to his own devices, who was recorded is as a few years ago in the same first few spins, that is no advance the same music in the most inventive) The album's track the most inventive) The album's title Teargarden for the music that it seems too seriously. the most part, as the music in the most innovative The album's songs is the most successful. Parker and a bit too quick by Lou Byrne (drums), Nicole chirp in its own. flourish the same the album that can take on his first single that the music is not to his career, But the music on The title references the most part, is not an album since a little more misleading founts with its own voice.asdfasdf's chord. of its own. He to his most Stephin Lyon of a bit in its own. years is no matter as he is an ongoing clocks in a bit in his songs in the music is an apt to do the first two people more like it is the album that it would make big-budget music that it is no mistake, that is the first two notable achievements that is the album of the music is an and his most uplifting is a bit that to his voice that it seems designed away in the most successful. she concluded of an own terms, that he it seems like her salt, she concluded he the first single \"Touch say, watched Colombo.\" to do the music on the same time, she the most innovative or his most of an uncanny affirms that to the most uplifting is the most part, he is no longer commit from an album of his work is a more significant Not the album that to a little more of its unique magnetism that he was all the album the album the album is an entire and that the music in a bit of its own whiskey onslaughts Mudhoney rips to do that it was recorded in a lot with a lot that is a more complicated clatter it makes it was all that is no longer genuinely and a little more of her own and a few regrettable prominent The album's final The Hives states or the same songs in the music that it was the first single These songs that the first two of their most and is a few well-regarded album is no the same portion of her husband with a little rougher, coarser. And the album is no matter that he was not only as a few years ago in the first single & gee-golly-mister of a bit that to do it is not a little more vibrant moment a few slaps in their lives with its way on his first album\" Jewelry fibrillating out of his music on his first album\" the album is not a lot to be to do a few\n"
          ],
          "name": "stdout"
        }
      ]
    },
    {
      "cell_type": "markdown",
      "metadata": {
        "id": "hnq5X5TKTQ4j",
        "colab_type": "text"
      },
      "source": [
        "## Retrain"
      ]
    },
    {
      "cell_type": "code",
      "metadata": {
        "id": "FM0WnRncRcp6",
        "colab_type": "code",
        "colab": {}
      },
      "source": [
        "seq_size = 32\n",
        "batch_size = 8\n",
        "\n",
        "text = \" \".join(reviews.iloc[reviews_from_cluster.index].content.apply(unidecode.unidecode).values.flatten())\n",
        "    \n",
        "text = text.split()\n",
        " \n",
        "int_text = [vocab_to_int[w] for w in text]\n",
        "num_batches = int(len(int_text) / (seq_size * batch_size))\n",
        "in_text = int_text[:num_batches * batch_size * seq_size]\n",
        "out_text = np.zeros_like(in_text)\n",
        "out_text[:-1] = in_text[1:]\n",
        "out_text[-1] = in_text[0]\n",
        "in_text = np.reshape(in_text, (batch_size, -1))\n",
        "out_text = np.reshape(out_text, (batch_size, -1))"
      ],
      "execution_count": 0,
      "outputs": []
    },
    {
      "cell_type": "code",
      "metadata": {
        "id": "KXBtrCrdUwWc",
        "colab_type": "code",
        "colab": {
          "base_uri": "https://localhost:8080/",
          "height": 105
        },
        "outputId": "fe180c05-fa55-4d6c-f830-ebe500bc088e"
      },
      "source": [
        "n_epochs = 3\n",
        "for e in range(n_epochs):\n",
        "    batches = get_batches(in_text, out_text, batch_size, seq_size)\n",
        "    state_h, state_c = net.zero_state(batch_size)\n",
        "\n",
        "    # Transfer data to GPU\n",
        "    state_h = state_h.to(device)\n",
        "    state_c = state_c.to(device)\n",
        "    for x, y in batches:\n",
        "        iteration += 1\n",
        "\n",
        "        # Tell it we are in training mode\n",
        "        net.train()\n",
        "\n",
        "        # Reset all gradients\n",
        "        optimizer.zero_grad()\n",
        "\n",
        "        # Transfer data to GPU\n",
        "        x = torch.tensor(x).to(device)\n",
        "        y = torch.tensor(y).to(device)\n",
        "\n",
        "        logits, (state_h, state_c) = net(x, (state_h, state_c))\n",
        "        loss = criterion(logits.transpose(1, 2), y)\n",
        "\n",
        "        state_h = state_h.detach()\n",
        "        state_c = state_c.detach()\n",
        "\n",
        "        loss_value = loss.item()\n",
        "\n",
        "        # Perform back-propagation\n",
        "        loss.backward()\n",
        "        \n",
        "        _ = torch.nn.utils.clip_grad_norm_(net.parameters(), flags.gradients_norm)\n",
        "\n",
        "        # Update the network's parameters\n",
        "        optimizer.step()\n",
        "\n",
        "        if iteration % 100 == 0:\n",
        "            print('Epoch: {}/{}'.format(e, n_epochs),\n",
        "                  'Iteration: {}'.format(iteration),\n",
        "                  'Loss: {}'.format(loss_value))\n",
        "\n",
        "    predict(device, net, flags.initial_words, n_vocab,\n",
        "                    vocab_to_int, int_to_vocab, top_k=5)"
      ],
      "execution_count": 21,
      "outputs": [
        {
          "output_type": "stream",
          "text": [
            "This album that and in its own to the music of a bit that the music of an of its music to his music to a and the album is a few and and the first to be a few of an artist in a more and a bit to a and of the first to the album is the album is his of his first in his own to be a more in the same and is a little in its same of a little and and of his own the album the first to an to be and the first time of the album's track of his own jazz to an attempt in a little more of the first couple of his music on its most innovative on the other own and and as an artist the most part, and is the most the music that is the music and the music and is that he sings, as an artist and the album's of his own own and a little bit and and as well for a few of an entire of its first house, a little more is as well for his and is an artist and is that he is an album is his banjo of a bit and the music is that it seems to make you know, he is the first time the music on his beat in their most in an obsolete the most and the most eloquent sessions that is an impromptu in their career, the same and in their own terms, of her but he a lot to make a few years, it the first time that and and a few Vernon are as if you know, are a few album a bit and in an Afrofuturist of an impromptu and as if it was an artist like its most of his own merits, in the first time that makes me the music for a more misleading writer but it to be the band that makes it to be the most much that makes me as if you're and the same songs is an album since there's no regrets,\" of a bit that the most part, as well and in their first creation, comfortably that the music is a little bit to make a few hundred of its first teaser that it the same album high-concept with an album for a lot more of a bit too seriously. The most important Corgan a lot with its way to be catchy, In the first few harmonically narrowly scenes with his best porno mag, but a more vibrant moment on a bit more of her music for an entire wispy, blue-eyed he the music that the first two the first few years, the first two and and and and his best porno guitar lines for an album that is his first album is that makes a lot of her own content.\" and is that the album is the music that makes something for the music that the first place. a bit too quick out in its songs are an inimitable Stoltz in order for his first few years is as well to his own devices, who was recorded is as a few years ago in the same first few spins, that is no advance the same music in the most inventive) The album's track the most inventive) The album's title Teargarden for the music that it seems too seriously. the most part, as the music in the most innovative The album's songs is the most successful. Parker and a bit too quick by Lou Byrne (drums), Nicole chirp in its own. flourish the same the album that can take on his first single that the music is not to his career, But the music on The title references the most part, is not an album since a little more misleading founts with its own voice.asdfasdf's chord. of its own. He to his most Stephin Lyon of a bit in its own. years is no matter as he is an ongoing clocks in a bit in his songs in the music is an apt to do the first two people more like it is the album that it would make big-budget music that it is no mistake, that is the first two notable achievements that is the album of the music is an and his most uplifting is a bit that to his voice that it seems designed away in the most successful. she concluded of an own terms, that he it seems like her salt, she concluded he the first single \"Touch say, watched Colombo.\" to do the music on the same time, she the most innovative or his most of an uncanny affirms that to the most uplifting is the most part, he is no longer commit from an album of his work is a more significant Not the album that to a little more of its unique magnetism that he was all the album the album the album is an entire and that the music in a bit of its own whiskey onslaughts Mudhoney rips to do that it was recorded in a lot with a lot that is a more complicated clatter it makes it was all that is no longer genuinely and a little more of her own and a few regrettable prominent The album's final The Hives states or the same songs in the music that it was the first single These songs that the first two of their most and is a few well-regarded album is no the same portion of her husband with a little rougher, coarser. And the album is no matter that he was not only as a few years ago in the first single & gee-golly-mister of a bit that to do it is not a little more vibrant moment a few slaps in their lives with its way on his first album\" Jewelry fibrillating out of his music on his first album\" the album is not a lot to be to do a few minutes and his catalog-- influences. record sounds fresh, latest track about them.Sifting the album's best known to a little short Now\" This as a song in a song in the songs evoke and it doesn't fuss with \"Today\", and it imbues it carries to hear the Branches that Blackshaw spent a little more subtlety. And it doesn't fuss in Blemish's in a band to the album with a song titles like a series Veronica like Fennesz from a little bit too stale rumbles but not just as he solos, down the songs evoke as he solos, Trash fingers these songs, the album's most noticeable but also the album's mood. Ayatollah is consistent, (though says a series on \"In his voice are as it doesn't fuss to a band name the Rockets finally Blackshaw has the songs are uniformly Lonely\" But in this celebration while the Rockets get in this lengthy in this disjointed and unyielding, and a tough and chug-- that's tastefully Perhaps their blood a series of a short six of the Rockets work is the songs is a tough in this celebration while Blemish as a series of his brother in this celebration that I, if Pet Sounds that begins\n",
            "This album that and in its own to the music of a bit that the music of an of its music to his music to a and the album is a few and and the first to be a few of an artist in a more and a bit to a and of the first to the album is the album is his of his first in his own to be a more in the same and is a little in its same of a little and and of his own the album the first to an to be and the first time of the album's track of his own jazz to an attempt in a little more of the first couple of his music on its most innovative on the other own and and as an artist the most part, and is the most the music that is the music and the music and is that he sings, as an artist and the album's of his own own and a little bit and and as well for a few of an entire of its first house, a little more is as well for his and is an artist and is that he is an album is his banjo of a bit and the music is that it seems to make you know, he is the first time the music on his beat in their most in an obsolete the most and the most eloquent sessions that is an impromptu in their career, the same and in their own terms, of her but he a lot to make a few years, it the first time that and and a few Vernon are as if you know, are a few album a bit and in an Afrofuturist of an impromptu and as if it was an artist like its most of his own merits, in the first time that makes me the music for a more misleading writer but it to be the band that makes it to be the most much that makes me as if you're and the same songs is an album since there's no regrets,\" of a bit that the most part, as well and in their first creation, comfortably that the music is a little bit to make a few hundred of its first teaser that it the same album high-concept with an album for a lot more of a bit too seriously. The most important Corgan a lot with its way to be catchy, In the first few harmonically narrowly scenes with his best porno mag, but a more vibrant moment on a bit more of her music for an entire wispy, blue-eyed he the music that the first two the first few years, the first two and and and and his best porno guitar lines for an album that is his first album is that makes a lot of her own content.\" and is that the album is the music that makes something for the music that the first place. a bit too quick out in its songs are an inimitable Stoltz in order for his first few years is as well to his own devices, who was recorded is as a few years ago in the same first few spins, that is no advance the same music in the most inventive) The album's track the most inventive) The album's title Teargarden for the music that it seems too seriously. the most part, as the music in the most innovative The album's songs is the most successful. Parker and a bit too quick by Lou Byrne (drums), Nicole chirp in its own. flourish the same the album that can take on his first single that the music is not to his career, But the music on The title references the most part, is not an album since a little more misleading founts with its own voice.asdfasdf's chord. of its own. He to his most Stephin Lyon of a bit in its own. years is no matter as he is an ongoing clocks in a bit in his songs in the music is an apt to do the first two people more like it is the album that it would make big-budget music that it is no mistake, that is the first two notable achievements that is the album of the music is an and his most uplifting is a bit that to his voice that it seems designed away in the most successful. she concluded of an own terms, that he it seems like her salt, she concluded he the first single \"Touch say, watched Colombo.\" to do the music on the same time, she the most innovative or his most of an uncanny affirms that to the most uplifting is the most part, he is no longer commit from an album of his work is a more significant Not the album that to a little more of its unique magnetism that he was all the album the album the album is an entire and that the music in a bit of its own whiskey onslaughts Mudhoney rips to do that it was recorded in a lot with a lot that is a more complicated clatter it makes it was all that is no longer genuinely and a little more of her own and a few regrettable prominent The album's final The Hives states or the same songs in the music that it was the first single These songs that the first two of their most and is a few well-regarded album is no the same portion of her husband with a little rougher, coarser. And the album is no matter that he was not only as a few years ago in the first single & gee-golly-mister of a bit that to do it is not a little more vibrant moment a few slaps in their lives with its way on his first album\" Jewelry fibrillating out of his music on his first album\" the album is not a lot to be to do a few minutes and his catalog-- influences. record sounds fresh, latest track about them.Sifting the album's best known to a little short Now\" This as a song in a song in the songs evoke and it doesn't fuss with \"Today\", and it imbues it carries to hear the Branches that Blackshaw spent a little more subtlety. And it doesn't fuss in Blemish's in a band to the album with a song titles like a series Veronica like Fennesz from a little bit too stale rumbles but not just as he solos, down the songs evoke as he solos, Trash fingers these songs, the album's most noticeable but also the album's mood. Ayatollah is consistent, (though says a series on \"In his voice are as it doesn't fuss to a band name the Rockets finally Blackshaw has the songs are uniformly Lonely\" But in this celebration while the Rockets get in this lengthy in this disjointed and unyielding, and a tough and chug-- that's tastefully Perhaps their blood a series of a short six of the Rockets work is the songs is a tough in this celebration while Blemish as a series of his brother in this celebration that I, if Pet Sounds that begins on \"In an outsized array and goes straight into a short flicks.) from the little girls That's with which he's a short six which is loud up in this celebration on \"In an album full than a song in this style is the Branches shows it explores you I mentally scene several tracks. The band's album is loud an undead detail ensures the album together, the album together, these tightly-wound songs that bombshell, which it explores you didn't hear all the album's most impressive are an instrumental. It is loud in this style enables and a band be back stronger to\n",
            "Epoch: 2/3 Iteration: 1800 Loss: 3.197965145111084\n",
            "This album that and in its own to the music of a bit that the music of an of its music to his music to a and the album is a few and and the first to be a few of an artist in a more and a bit to a and of the first to the album is the album is his of his first in his own to be a more in the same and is a little in its same of a little and and of his own the album the first to an to be and the first time of the album's track of his own jazz to an attempt in a little more of the first couple of his music on its most innovative on the other own and and as an artist the most part, and is the most the music that is the music and the music and is that he sings, as an artist and the album's of his own own and a little bit and and as well for a few of an entire of its first house, a little more is as well for his and is an artist and is that he is an album is his banjo of a bit and the music is that it seems to make you know, he is the first time the music on his beat in their most in an obsolete the most and the most eloquent sessions that is an impromptu in their career, the same and in their own terms, of her but he a lot to make a few years, it the first time that and and a few Vernon are as if you know, are a few album a bit and in an Afrofuturist of an impromptu and as if it was an artist like its most of his own merits, in the first time that makes me the music for a more misleading writer but it to be the band that makes it to be the most much that makes me as if you're and the same songs is an album since there's no regrets,\" of a bit that the most part, as well and in their first creation, comfortably that the music is a little bit to make a few hundred of its first teaser that it the same album high-concept with an album for a lot more of a bit too seriously. The most important Corgan a lot with its way to be catchy, In the first few harmonically narrowly scenes with his best porno mag, but a more vibrant moment on a bit more of her music for an entire wispy, blue-eyed he the music that the first two the first few years, the first two and and and and his best porno guitar lines for an album that is his first album is that makes a lot of her own content.\" and is that the album is the music that makes something for the music that the first place. a bit too quick out in its songs are an inimitable Stoltz in order for his first few years is as well to his own devices, who was recorded is as a few years ago in the same first few spins, that is no advance the same music in the most inventive) The album's track the most inventive) The album's title Teargarden for the music that it seems too seriously. the most part, as the music in the most innovative The album's songs is the most successful. Parker and a bit too quick by Lou Byrne (drums), Nicole chirp in its own. flourish the same the album that can take on his first single that the music is not to his career, But the music on The title references the most part, is not an album since a little more misleading founts with its own voice.asdfasdf's chord. of its own. He to his most Stephin Lyon of a bit in its own. years is no matter as he is an ongoing clocks in a bit in his songs in the music is an apt to do the first two people more like it is the album that it would make big-budget music that it is no mistake, that is the first two notable achievements that is the album of the music is an and his most uplifting is a bit that to his voice that it seems designed away in the most successful. she concluded of an own terms, that he it seems like her salt, she concluded he the first single \"Touch say, watched Colombo.\" to do the music on the same time, she the most innovative or his most of an uncanny affirms that to the most uplifting is the most part, he is no longer commit from an album of his work is a more significant Not the album that to a little more of its unique magnetism that he was all the album the album the album is an entire and that the music in a bit of its own whiskey onslaughts Mudhoney rips to do that it was recorded in a lot with a lot that is a more complicated clatter it makes it was all that is no longer genuinely and a little more of her own and a few regrettable prominent The album's final The Hives states or the same songs in the music that it was the first single These songs that the first two of their most and is a few well-regarded album is no the same portion of her husband with a little rougher, coarser. And the album is no matter that he was not only as a few years ago in the first single & gee-golly-mister of a bit that to do it is not a little more vibrant moment a few slaps in their lives with its way on his first album\" Jewelry fibrillating out of his music on his first album\" the album is not a lot to be to do a few minutes and his catalog-- influences. record sounds fresh, latest track about them.Sifting the album's best known to a little short Now\" This as a song in a song in the songs evoke and it doesn't fuss with \"Today\", and it imbues it carries to hear the Branches that Blackshaw spent a little more subtlety. And it doesn't fuss in Blemish's in a band to the album with a song titles like a series Veronica like Fennesz from a little bit too stale rumbles but not just as he solos, down the songs evoke as he solos, Trash fingers these songs, the album's most noticeable but also the album's mood. Ayatollah is consistent, (though says a series on \"In his voice are as it doesn't fuss to a band name the Rockets finally Blackshaw has the songs are uniformly Lonely\" But in this celebration while the Rockets get in this lengthy in this disjointed and unyielding, and a tough and chug-- that's tastefully Perhaps their blood a series of a short six of the Rockets work is the songs is a tough in this celebration while Blemish as a series of his brother in this celebration that I, if Pet Sounds that begins on \"In an outsized array and goes straight into a short flicks.) from the little girls That's with which he's a short six which is loud up in this celebration on \"In an album full than a song in this style is the Branches shows it explores you I mentally scene several tracks. The band's album is loud an undead detail ensures the album together, the album together, these tightly-wound songs that bombshell, which it explores you didn't hear all the album's most impressive are an instrumental. It is loud in this style enables and a band be back stronger to rights. the album's is not the little of a song in a song that bombshell, I Love than great. done works with which starts himself with which he's gobbled and goes straight to be catchy, a few hundred you'd work to 90s add would fit the music has the little more disappointing is a song titles are still strong, as a band quickly a short last record has insisted a short thing the band members than great. done on \"Endless Ace's Disposable Utilizing nuclear war. and goes with which starts My Bubble of course, is the band that the band to\n"
          ],
          "name": "stdout"
        }
      ]
    }
  ]
}