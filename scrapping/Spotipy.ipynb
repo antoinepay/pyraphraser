{
 "cells": [
  {
   "cell_type": "code",
   "execution_count": 1,
   "metadata": {},
   "outputs": [],
   "source": [
    "import pandas as pd\n",
    "from tqdm import tqdm\n",
    "\n",
    "import spotipy\n",
    "from spotipy.oauth2 import SpotifyClientCredentials #To access authorised Spotify data\n",
    "\n",
    "client_id= \"d8df752143c842238c774a4551d21546\"\n",
    "client_secret= \"de7220a3104a43a0aed809594a5d92b1\""
   ]
  },
  {
   "cell_type": "markdown",
   "metadata": {},
   "source": [
    "# Import data"
   ]
  },
  {
   "cell_type": "code",
   "execution_count": 2,
   "metadata": {},
   "outputs": [],
   "source": [
    "pitchfork_df = pd.read_csv('pitchfork_reviews.tsv', sep=('\\t'))"
   ]
  },
  {
   "cell_type": "code",
   "execution_count": 3,
   "metadata": {},
   "outputs": [],
   "source": [
    "scrap_df = pitchfork_df[['title', 'artist']].drop_duplicates()"
   ]
  },
  {
   "cell_type": "code",
   "execution_count": 4,
   "metadata": {},
   "outputs": [],
   "source": [
    "artist_df = scrap_df['artist'].drop_duplicates()"
   ]
  },
  {
   "cell_type": "code",
   "execution_count": 5,
   "metadata": {},
   "outputs": [],
   "source": [
    "album_df = scrap_df['title'].drop_duplicates()"
   ]
  },
  {
   "cell_type": "markdown",
   "metadata": {},
   "source": [
    "# Get artist URI for artist name"
   ]
  },
  {
   "cell_type": "code",
   "execution_count": 6,
   "metadata": {},
   "outputs": [],
   "source": [
    "def initiate_connection(client_id, client_secret):\n",
    "    \n",
    "    client_credentials_manager = SpotifyClientCredentials(client_id=client_id, client_secret=client_secret)\n",
    "    sp = spotipy.Spotify(client_credentials_manager=client_credentials_manager) #spotify object to access API\n",
    "    \n",
    "    return sp\n",
    "\n",
    "def get_artist_uri(sp, name):\n",
    "    \n",
    "    result = sp.search(name) #search query\n",
    "    \n",
    "    try:\n",
    "        artist_uri = result['tracks']['items'][0]['artists'][0]['uri']\n",
    "        return artist_uri\n",
    "        \n",
    "    except Exception:\n",
    "        print(result)\n",
    "        return None"
   ]
  },
  {
   "cell_type": "code",
   "execution_count": 7,
   "metadata": {},
   "outputs": [],
   "source": [
    "sp = initiate_connection(client_id, client_secret)\n",
    "\n",
    "#artist_uri = get_artist_uri(sp, \"Mystery Jets\")"
   ]
  },
  {
   "cell_type": "code",
   "execution_count": 8,
   "metadata": {},
   "outputs": [],
   "source": [
    "#art_uri_list = []"
   ]
  },
  {
   "cell_type": "code",
   "execution_count": 9,
   "metadata": {},
   "outputs": [],
   "source": [
    "#for name in list(artist_df):\n",
    "#    try:\n",
    "#        art_uri_list.append([name, get_artist_uri(sp, name)])\n",
    "#    except Exception:\n",
    "#        break"
   ]
  },
  {
   "cell_type": "code",
   "execution_count": 10,
   "metadata": {},
   "outputs": [],
   "source": [
    "#art_uri_df = pd.DataFrame(art_uri_list, columns=['artist', 'artist_uri'])"
   ]
  },
  {
   "cell_type": "code",
   "execution_count": 11,
   "metadata": {},
   "outputs": [],
   "source": [
    "#art_uri_df.to_csv('art_uri.csv')"
   ]
  },
  {
   "cell_type": "code",
   "execution_count": 12,
   "metadata": {},
   "outputs": [],
   "source": [
    "art_uri_df = pd.read_csv('art_uri.csv', index_col=False)"
   ]
  },
  {
   "cell_type": "markdown",
   "metadata": {},
   "source": [
    "# Get album names and URI for each artist"
   ]
  },
  {
   "cell_type": "code",
   "execution_count": 13,
   "metadata": {},
   "outputs": [],
   "source": [
    "scrap_artist_df = scrap_df.merge(art_uri_df)"
   ]
  },
  {
   "cell_type": "code",
   "execution_count": 14,
   "metadata": {},
   "outputs": [],
   "source": [
    "#album_uri_list = []"
   ]
  },
  {
   "cell_type": "code",
   "execution_count": 15,
   "metadata": {},
   "outputs": [],
   "source": [
    "def get_all_artist_albums(sp, artist, artist_uri):\n",
    "\n",
    "    alb = []\n",
    "    \n",
    "    #Pull all of the artist's albums\n",
    "    sp_albums = sp.artist_albums(artist_uri, album_type='album')\n",
    "    \n",
    "    try:\n",
    "    \n",
    "        #Store artist's albums' names' and uris in separate lists\n",
    "        for i in range(len(sp_albums['items'])):\n",
    "            alb.append([artist, artist_uri, sp_albums['items'][i]['name'], sp_albums['items'][i]['uri']])\n",
    "            \n",
    "        return alb\n",
    "            \n",
    "    except Exception:\n",
    "        print(sp_albums)\n",
    "        pass"
   ]
  },
  {
   "cell_type": "code",
   "execution_count": 16,
   "metadata": {},
   "outputs": [],
   "source": [
    "#for row in tqdm(art_uri_df.itertuples(index=False)):\n",
    "#    try:\n",
    "#        album_uri_list.extend(get_all_artist_albums(sp, row[0], row[1]))\n",
    "#    except Exception:\n",
    "#        pass"
   ]
  },
  {
   "cell_type": "code",
   "execution_count": 17,
   "metadata": {},
   "outputs": [],
   "source": [
    "#album_uri_df = pd.DataFrame(album_uri_list, columns=['artist', 'artist_uri', 'name', 'album_uri'])"
   ]
  },
  {
   "cell_type": "code",
   "execution_count": 18,
   "metadata": {},
   "outputs": [],
   "source": [
    "#album_uri_df.to_csv('album_uri.csv')"
   ]
  },
  {
   "cell_type": "code",
   "execution_count": 19,
   "metadata": {},
   "outputs": [],
   "source": [
    "album_uri_df = pd.read_csv('album_uri.csv', index_col=False)"
   ]
  },
  {
   "cell_type": "code",
   "execution_count": 20,
   "metadata": {},
   "outputs": [],
   "source": [
    "album_uri_df = album_uri_df.rename(columns={'name':'title'})"
   ]
  },
  {
   "cell_type": "markdown",
   "metadata": {},
   "source": [
    "# Clean album names, join"
   ]
  },
  {
   "cell_type": "code",
   "execution_count": 21,
   "metadata": {},
   "outputs": [],
   "source": [
    "import jellyfish"
   ]
  },
  {
   "cell_type": "code",
   "execution_count": 22,
   "metadata": {},
   "outputs": [],
   "source": [
    "common = scrap_df.merge(album_uri_df, on=['artist', 'title'])"
   ]
  },
  {
   "cell_type": "code",
   "execution_count": 23,
   "metadata": {},
   "outputs": [],
   "source": [
    "common['not_common'] = False"
   ]
  },
  {
   "cell_type": "code",
   "execution_count": 24,
   "metadata": {},
   "outputs": [],
   "source": [
    "filter_not_common = scrap_df.merge(common[['title', 'artist', 'not_common']].drop_duplicates(), \n",
    "                               how='left')['not_common'].fillna(True)"
   ]
  },
  {
   "cell_type": "code",
   "execution_count": 25,
   "metadata": {},
   "outputs": [],
   "source": [
    "to_join_df = album_uri_df.merge(scrap_df.reset_index().loc[filter_not_common], on='artist')"
   ]
  },
  {
   "cell_type": "code",
   "execution_count": 26,
   "metadata": {},
   "outputs": [],
   "source": [
    "to_join_df['similarity'] = to_join_df.apply(lambda row: jellyfish.jaro_winkler(str(row['title_x']), str(row['title_y'])), axis=1)"
   ]
  },
  {
   "cell_type": "code",
   "execution_count": 27,
   "metadata": {},
   "outputs": [],
   "source": [
    "not_common = to_join_df.sort_values('similarity', ascending=False).groupby(['artist', 'title_y']).head(1)"
   ]
  },
  {
   "cell_type": "code",
   "execution_count": 28,
   "metadata": {},
   "outputs": [],
   "source": [
    "not_common = not_common[not_common.similarity > 0.8]"
   ]
  },
  {
   "cell_type": "code",
   "execution_count": 29,
   "metadata": {},
   "outputs": [],
   "source": [
    "not_common = not_common.rename(columns={'title_y':'title'})"
   ]
  },
  {
   "cell_type": "code",
   "execution_count": 30,
   "metadata": {},
   "outputs": [],
   "source": [
    "common_clean = common[['title', 'artist', 'artist_uri', 'album_uri']].groupby(['artist', 'title']).head(1)"
   ]
  },
  {
   "cell_type": "code",
   "execution_count": 31,
   "metadata": {},
   "outputs": [],
   "source": [
    "common_clean = common_clean.append(not_common[['title', 'artist', 'artist_uri', 'album_uri']])"
   ]
  },
  {
   "cell_type": "code",
   "execution_count": 32,
   "metadata": {},
   "outputs": [],
   "source": [
    "common_clean.to_csv('common_clean.csv')"
   ]
  },
  {
   "cell_type": "markdown",
   "metadata": {},
   "source": [
    "# Get track information, aggregate and link to album"
   ]
  },
  {
   "cell_type": "code",
   "execution_count": 33,
   "metadata": {},
   "outputs": [],
   "source": [
    "def get_album_features(sp, album_uri):\n",
    "    \n",
    "    tracks = sp.album_tracks(album_uri)\n",
    "    \n",
    "    acousticness = []\n",
    "    danceability = []\n",
    "    energy = []\n",
    "    instrumental = []\n",
    "    liveness = []\n",
    "    loudness = []\n",
    "    speechiness = []\n",
    "    tempo = []\n",
    "    valence = []\n",
    "    \n",
    "    popularity = []\n",
    "    \n",
    "    for i in range(len(tracks['items'])):\n",
    "        \n",
    "        track_uri = tracks['items'][i]['uri']\n",
    "        \n",
    "        features = sp.audio_features(track_uri)\n",
    "       \n",
    "        acousticness.append(features[0]['acousticness'])\n",
    "        danceability.append(features[0]['danceability'])\n",
    "        energy.append(features[0]['energy'])\n",
    "        instrumental.append(features[0]['instrumentalness'])\n",
    "        liveness.append(features[0]['liveness'])\n",
    "        loudness.append(features[0]['loudness'])\n",
    "        speechiness.append(features[0]['speechiness'])\n",
    "        tempo.append(features[0]['tempo'])\n",
    "        valence.append(features[0]['valence'])\n",
    "        \n",
    "        pop = sp.track(track_uri)\n",
    "        popularity.append(pop['popularity'])\n",
    "        \n",
    "    return {'album_uri': album_uri,\n",
    "            'acousticness': np.mean(acousticness),\n",
    "            'danceability': np.mean(danceability),\n",
    "            'energy': np.mean(energy),\n",
    "            'instrumental': np.mean(instrumental),\n",
    "            'liveness': np.mean(liveness),\n",
    "            'loudness': np.mean(loudness),\n",
    "            'speechiness': np.mean(speechiness),\n",
    "            'tempo': np.mean(tempo),\n",
    "            'valence': np.mean(valence),\n",
    "            'popularity': np.mean(popularity)}"
   ]
  },
  {
   "cell_type": "code",
   "execution_count": 34,
   "metadata": {},
   "outputs": [],
   "source": [
    "album_features = []"
   ]
  },
  {
   "cell_type": "code",
   "execution_count": 35,
   "metadata": {},
   "outputs": [
    {
     "name": "stderr",
     "output_type": "stream",
     "text": [
      "58it [02:12,  1.90s/it]"
     ]
    },
    {
     "name": "stdout",
     "output_type": "stream",
     "text": [
      "retrying ...1secs\n",
      "retrying ...1secs\n"
     ]
    },
    {
     "name": "stderr",
     "output_type": "stream",
     "text": [
      "78it [03:03,  2.11s/it]"
     ]
    },
    {
     "name": "stdout",
     "output_type": "stream",
     "text": [
      "retrying ...1secs\n",
      "retrying ...1secs\n"
     ]
    },
    {
     "name": "stderr",
     "output_type": "stream",
     "text": [
      "99it [03:50,  1.78s/it]"
     ]
    },
    {
     "name": "stdout",
     "output_type": "stream",
     "text": [
      "retrying ...1secs\n",
      "retrying ...1secs\n"
     ]
    },
    {
     "name": "stderr",
     "output_type": "stream",
     "text": [
      "109it [04:22,  2.17s/it]"
     ]
    },
    {
     "name": "stdout",
     "output_type": "stream",
     "text": [
      "retrying ...1secs\n",
      "retrying ...1secs\n"
     ]
    },
    {
     "name": "stderr",
     "output_type": "stream",
     "text": [
      "124it [05:01,  2.24s/it]"
     ]
    },
    {
     "name": "stdout",
     "output_type": "stream",
     "text": [
      "retrying ...1secs\n",
      "retrying ...1secs\n"
     ]
    },
    {
     "name": "stderr",
     "output_type": "stream",
     "text": [
      "139it [05:33,  1.97s/it]"
     ]
    },
    {
     "name": "stdout",
     "output_type": "stream",
     "text": [
      "retrying ...1secs\n"
     ]
    },
    {
     "name": "stderr",
     "output_type": "stream",
     "text": [
      "146it [05:51,  2.20s/it]"
     ]
    },
    {
     "name": "stdout",
     "output_type": "stream",
     "text": [
      "retrying ...1secs\n",
      "retrying ...1secs\n"
     ]
    },
    {
     "name": "stderr",
     "output_type": "stream",
     "text": [
      "186it [07:21,  1.86s/it]"
     ]
    },
    {
     "name": "stdout",
     "output_type": "stream",
     "text": [
      "retrying ...1secs\n",
      "retrying ...1secs\n"
     ]
    },
    {
     "name": "stderr",
     "output_type": "stream",
     "text": [
      "207it [08:12,  1.83s/it]"
     ]
    },
    {
     "name": "stdout",
     "output_type": "stream",
     "text": [
      "retrying ...2secs\n",
      "retrying ...1secs\n"
     ]
    },
    {
     "name": "stderr",
     "output_type": "stream",
     "text": [
      "246it [09:40,  1.95s/it]"
     ]
    },
    {
     "name": "stdout",
     "output_type": "stream",
     "text": [
      "retrying ...1secs\n",
      "retrying ...1secs\n"
     ]
    },
    {
     "name": "stderr",
     "output_type": "stream",
     "text": [
      "252it [10:02,  3.86s/it]"
     ]
    },
    {
     "name": "stdout",
     "output_type": "stream",
     "text": [
      "retrying ...1secs\n"
     ]
    },
    {
     "name": "stderr",
     "output_type": "stream",
     "text": [
      "269it [10:39,  1.98s/it]"
     ]
    },
    {
     "name": "stdout",
     "output_type": "stream",
     "text": [
      "retrying ...1secs\n",
      "retrying ...1secs\n"
     ]
    },
    {
     "name": "stderr",
     "output_type": "stream",
     "text": [
      "296it [11:51,  2.53s/it]"
     ]
    },
    {
     "name": "stdout",
     "output_type": "stream",
     "text": [
      "retrying ...1secs\n",
      "retrying ...1secs\n"
     ]
    },
    {
     "name": "stderr",
     "output_type": "stream",
     "text": [
      "316it [12:40,  1.81s/it]"
     ]
    },
    {
     "name": "stdout",
     "output_type": "stream",
     "text": [
      "retrying ...1secs\n",
      "retrying ...1secs\n"
     ]
    },
    {
     "name": "stderr",
     "output_type": "stream",
     "text": [
      "396it [15:52,  2.34s/it]"
     ]
    },
    {
     "name": "stdout",
     "output_type": "stream",
     "text": [
      "retrying ...1secs\n",
      "retrying ...1secs\n"
     ]
    },
    {
     "name": "stderr",
     "output_type": "stream",
     "text": [
      "416it [16:41,  2.11s/it]"
     ]
    },
    {
     "name": "stdout",
     "output_type": "stream",
     "text": [
      "retrying ...1secs\n",
      "retrying ...1secs\n"
     ]
    },
    {
     "name": "stderr",
     "output_type": "stream",
     "text": [
      "429it [17:21,  1.98s/it]"
     ]
    },
    {
     "name": "stdout",
     "output_type": "stream",
     "text": [
      "retrying ...1secs\n",
      "retrying ...1secs\n"
     ]
    },
    {
     "name": "stderr",
     "output_type": "stream",
     "text": [
      "437it [17:42,  2.27s/it]"
     ]
    },
    {
     "name": "stdout",
     "output_type": "stream",
     "text": [
      "retrying ...1secs\n",
      "retrying ...1secs\n"
     ]
    },
    {
     "name": "stderr",
     "output_type": "stream",
     "text": [
      "448it [18:22,  4.09s/it]"
     ]
    },
    {
     "name": "stdout",
     "output_type": "stream",
     "text": [
      "retrying ...1secs\n",
      "retrying ...1secs\n"
     ]
    },
    {
     "name": "stderr",
     "output_type": "stream",
     "text": [
      "500it [20:38,  2.48s/it]\n"
     ]
    }
   ],
   "source": [
    "import time\n",
    "import numpy as np\n",
    "\n",
    "\n",
    "sleep_min = 2\n",
    "sleep_max = 5\n",
    "start_time = time.time()\n",
    "request_count = 0\n",
    "\n",
    "for row in tqdm(common_clean.iloc[5000:5500].itertuples(index=False)):\n",
    "\n",
    "    try:\n",
    "        album_features.append(get_album_features(sp, row[3]))\n",
    "        \n",
    "        request_count+=1\n",
    "        \n",
    "        if request_count % 10 == 0:\n",
    "            time.sleep(np.random.uniform(sleep_min, sleep_max))\n",
    "            \n",
    "    except Exception:\n",
    "        time.sleep(np.random.uniform(sleep_min, sleep_max))\n",
    "        pass"
   ]
  },
  {
   "cell_type": "code",
   "execution_count": 92,
   "metadata": {},
   "outputs": [],
   "source": [
    "pd.DataFrame(album_features).to_csv('album_features_4999_to_5499.csv')"
   ]
  },
  {
   "cell_type": "code",
   "execution_count": 88,
   "metadata": {},
   "outputs": [
    {
     "data": {
      "text/plain": [
       "3800"
      ]
     },
     "execution_count": 88,
     "metadata": {},
     "output_type": "execute_result"
    }
   ],
   "source": [
    "len(album_features)"
   ]
  },
  {
   "cell_type": "code",
   "execution_count": 58,
   "metadata": {},
   "outputs": [
    {
     "data": {
      "text/html": [
       "<div>\n",
       "<style scoped>\n",
       "    .dataframe tbody tr th:only-of-type {\n",
       "        vertical-align: middle;\n",
       "    }\n",
       "\n",
       "    .dataframe tbody tr th {\n",
       "        vertical-align: top;\n",
       "    }\n",
       "\n",
       "    .dataframe thead th {\n",
       "        text-align: right;\n",
       "    }\n",
       "</style>\n",
       "<table border=\"1\" class=\"dataframe\">\n",
       "  <thead>\n",
       "    <tr style=\"text-align: right;\">\n",
       "      <th></th>\n",
       "      <th>title</th>\n",
       "      <th>artist</th>\n",
       "      <th>artist_uri</th>\n",
       "      <th>album_uri</th>\n",
       "    </tr>\n",
       "  </thead>\n",
       "  <tbody>\n",
       "    <tr>\n",
       "      <td>25</td>\n",
       "      <td>333</td>\n",
       "      <td>hour of 13</td>\n",
       "      <td>spotify:artist:5xgm2Kh3oTlcFEKdHovNKA</td>\n",
       "      <td>spotify:album:5OZy0tvQ9dpVHija0WKef1</td>\n",
       "    </tr>\n",
       "    <tr>\n",
       "      <td>26</td>\n",
       "      <td>sorry</td>\n",
       "      <td>white lung</td>\n",
       "      <td>spotify:artist:2iT2Fmot4VzWgdOTgp3j9M</td>\n",
       "      <td>spotify:album:78WM9cuBpyk0MvI2lcEQIa</td>\n",
       "    </tr>\n",
       "    <tr>\n",
       "      <td>27</td>\n",
       "      <td>the plot against common sense</td>\n",
       "      <td>future of the left</td>\n",
       "      <td>spotify:artist:4waRXR1luGWkwHOPZUjz2W</td>\n",
       "      <td>spotify:album:07t1mMckO61tMce67UI2VH</td>\n",
       "    </tr>\n",
       "    <tr>\n",
       "      <td>28</td>\n",
       "      <td>1966</td>\n",
       "      <td>karen dalton</td>\n",
       "      <td>spotify:artist:5O5V29YvM6AzAQ0rNt59fy</td>\n",
       "      <td>spotify:album:1K7tpapZGd6Ax1YA2vXNEA</td>\n",
       "    </tr>\n",
       "    <tr>\n",
       "      <td>29</td>\n",
       "      <td>flumina</td>\n",
       "      <td>fennesz, sakamoto</td>\n",
       "      <td>spotify:artist:2DoQBgPsB9AdmWpIa2hUSz</td>\n",
       "      <td>spotify:album:1w3nnQ2obGiUAsNgqv0RE1</td>\n",
       "    </tr>\n",
       "    <tr>\n",
       "      <td>...</td>\n",
       "      <td>...</td>\n",
       "      <td>...</td>\n",
       "      <td>...</td>\n",
       "      <td>...</td>\n",
       "    </tr>\n",
       "    <tr>\n",
       "      <td>295</td>\n",
       "      <td>flaamingos</td>\n",
       "      <td>flaamingos</td>\n",
       "      <td>spotify:artist:13m29DGHBxpcVYS734KCvx</td>\n",
       "      <td>spotify:album:4uaciprpeOrZc0rrRlue0p</td>\n",
       "    </tr>\n",
       "    <tr>\n",
       "      <td>296</td>\n",
       "      <td>belladonna</td>\n",
       "      <td>daniel lanois</td>\n",
       "      <td>spotify:artist:5S0AJvE9NB1kGrXRfYh690</td>\n",
       "      <td>spotify:album:05tAz0b9gHjjlpaIOxNvfy</td>\n",
       "    </tr>\n",
       "    <tr>\n",
       "      <td>297</td>\n",
       "      <td>nootropics</td>\n",
       "      <td>lower dens</td>\n",
       "      <td>spotify:artist:5uTJLo3c4ZHpH8oEwGxYUN</td>\n",
       "      <td>spotify:album:5ovZHENU63vV3rSYcTYE1U</td>\n",
       "    </tr>\n",
       "    <tr>\n",
       "      <td>298</td>\n",
       "      <td>celebration, florida</td>\n",
       "      <td>the felice brothers</td>\n",
       "      <td>spotify:artist:4Ajgo7nAsTzjSFymIfBjZ1</td>\n",
       "      <td>spotify:album:70QqtUN1grBIsT0mQhxEUk</td>\n",
       "    </tr>\n",
       "    <tr>\n",
       "      <td>299</td>\n",
       "      <td>program 91</td>\n",
       "      <td>razika</td>\n",
       "      <td>spotify:artist:66PoNlsQYggJcJrCQAIvtU</td>\n",
       "      <td>spotify:album:1ym8bmJipFLV83GWsTuUWe</td>\n",
       "    </tr>\n",
       "  </tbody>\n",
       "</table>\n",
       "<p>275 rows × 4 columns</p>\n",
       "</div>"
      ],
      "text/plain": [
       "                             title               artist  \\\n",
       "25                             333           hour of 13   \n",
       "26                           sorry           white lung   \n",
       "27   the plot against common sense   future of the left   \n",
       "28                            1966         karen dalton   \n",
       "29                         flumina    fennesz, sakamoto   \n",
       "..                             ...                  ...   \n",
       "295                     flaamingos           flaamingos   \n",
       "296                     belladonna        daniel lanois   \n",
       "297                     nootropics           lower dens   \n",
       "298           celebration, florida  the felice brothers   \n",
       "299                     program 91               razika   \n",
       "\n",
       "                                artist_uri  \\\n",
       "25   spotify:artist:5xgm2Kh3oTlcFEKdHovNKA   \n",
       "26   spotify:artist:2iT2Fmot4VzWgdOTgp3j9M   \n",
       "27   spotify:artist:4waRXR1luGWkwHOPZUjz2W   \n",
       "28   spotify:artist:5O5V29YvM6AzAQ0rNt59fy   \n",
       "29   spotify:artist:2DoQBgPsB9AdmWpIa2hUSz   \n",
       "..                                     ...   \n",
       "295  spotify:artist:13m29DGHBxpcVYS734KCvx   \n",
       "296  spotify:artist:5S0AJvE9NB1kGrXRfYh690   \n",
       "297  spotify:artist:5uTJLo3c4ZHpH8oEwGxYUN   \n",
       "298  spotify:artist:4Ajgo7nAsTzjSFymIfBjZ1   \n",
       "299  spotify:artist:66PoNlsQYggJcJrCQAIvtU   \n",
       "\n",
       "                                album_uri  \n",
       "25   spotify:album:5OZy0tvQ9dpVHija0WKef1  \n",
       "26   spotify:album:78WM9cuBpyk0MvI2lcEQIa  \n",
       "27   spotify:album:07t1mMckO61tMce67UI2VH  \n",
       "28   spotify:album:1K7tpapZGd6Ax1YA2vXNEA  \n",
       "29   spotify:album:1w3nnQ2obGiUAsNgqv0RE1  \n",
       "..                                    ...  \n",
       "295  spotify:album:4uaciprpeOrZc0rrRlue0p  \n",
       "296  spotify:album:05tAz0b9gHjjlpaIOxNvfy  \n",
       "297  spotify:album:5ovZHENU63vV3rSYcTYE1U  \n",
       "298  spotify:album:70QqtUN1grBIsT0mQhxEUk  \n",
       "299  spotify:album:1ym8bmJipFLV83GWsTuUWe  \n",
       "\n",
       "[275 rows x 4 columns]"
      ]
     },
     "execution_count": 58,
     "metadata": {},
     "output_type": "execute_result"
    }
   ],
   "source": [
    "common_clean.reset_index(drop=True).iloc[25:300]"
   ]
  },
  {
   "cell_type": "code",
   "execution_count": null,
   "metadata": {},
   "outputs": [],
   "source": []
  }
 ],
 "metadata": {
  "kernelspec": {
   "display_name": "Python 3",
   "language": "python",
   "name": "python3"
  },
  "language_info": {
   "codemirror_mode": {
    "name": "ipython",
    "version": 3
   },
   "file_extension": ".py",
   "mimetype": "text/x-python",
   "name": "python",
   "nbconvert_exporter": "python",
   "pygments_lexer": "ipython3",
   "version": "3.7.4"
  },
  "notify_time": "5",
  "toc": {
   "base_numbering": 1,
   "nav_menu": {},
   "number_sections": true,
   "sideBar": true,
   "skip_h1_title": false,
   "title_cell": "Table of Contents",
   "title_sidebar": "Contents",
   "toc_cell": false,
   "toc_position": {},
   "toc_section_display": true,
   "toc_window_display": false
  }
 },
 "nbformat": 4,
 "nbformat_minor": 2
}
